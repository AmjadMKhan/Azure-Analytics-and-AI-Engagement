{
 "cells": [
  {
   "cell_type": "markdown",
   "metadata": {},
   "source": [
    "# Azure Translator\n",
    "\n",
    "Azure translator translates text from one language to another using the Translator REST API.\n",
    "\n",
    "\n",
    "### Overview\n",
    "*Safety Incident Reports Dataset*: The safety incident reports JSON files in languages like spanish and portuguese are translated to english using the azure translator.\n",
    "\n",
    "### Notebook Organization \n",
    "+ Fetch the injury report JSON files from a folder in spanish and portugese.\n",
    "\n",
    "+ Translate the JSON files to english by sending a post request to the azure translator service.\n",
    "\n",
    "+ Store the translated JSON files to a folder.\n"
   ]
  },
  {
   "cell_type": "markdown",
   "metadata": {},
   "source": [
    "## Importing Relevant Libraries"
   ]
  },
  {
   "cell_type": "code",
   "execution_count": 1,
   "metadata": {},
   "outputs": [],
   "source": [
    "import pandas as pd\n",
    "import requests\n",
    "import json\n",
    "import os\n",
    "from os import listdir\n",
    "from os.path import isfile, join"
   ]
  },
  {
   "cell_type": "markdown",
   "metadata": {},
   "source": [
    "## Create Local Folders\n",
    "\n",
    "- *input-json-files* is the folder from where the input JSON files are provided to be translated into english.\n",
    "- *translated_json* consists of all the translated json files."
   ]
  },
  {
   "cell_type": "code",
   "execution_count": 2,
   "metadata": {},
   "outputs": [],
   "source": [
    "local_input_path = os.path.join(os.getcwd(), \"output_json\")\n",
    "# *translated_json* will contain all the translated json files\n",
    "if (not os.path.isdir(os.getcwd()+\"/translated_json\")):\n",
    "    os.makedirs(os.getcwd()+\"/translated_json\")\n",
    "output_path = os.path.join(os.getcwd(), \"translated_json//\")"
   ]
  },
  {
   "cell_type": "markdown",
   "metadata": {},
   "source": [
    "## Translator Resource"
   ]
  },
  {
   "cell_type": "code",
   "execution_count": 3,
   "metadata": {},
   "outputs": [
    {
     "name": "stdout",
     "output_type": "stream",
     "text": [
      "https://Mutarjum-7q65w5v4qwqdm-sep22r2.cognitiveservices.azure.com/translator/text/v3.0/translate?api-version=3.0&to=\n",
      "{'Ocp-Apim-Subscription-Key': 'dd1b68b1cac449b8a6164bf585323f64', 'Content-Type': 'application/json; charset=UTF-8'}\n"
     ]
    }
   ],
   "source": [
    "# Importing user defined config\n",
    "import config\n",
    "\n",
    "# Translator resource\n",
    "# Endpoint parameters for querying the translator to return the translated JSON\n",
    "url = config.TRANLATION_URL\n",
    "print(url)\n",
    "headers = config.TRANLATION_HEADERS\n",
    "print(headers)\n",
    "# Provide english as the language\n",
    "lang = \"en\""
   ]
  },
  {
   "cell_type": "code",
   "execution_count": 4,
   "metadata": {},
   "outputs": [
    {
     "name": "stdout",
     "output_type": "stream",
     "text": [
      "\n",
      "Original JSON\n",
      "\n",
      "{\"hospitalized\": \"1\", \"event date\": \"1/1/2015\", \"final narrative\": \"A truck driver fell approximately 4 feet while descending a tanker trailer ladder. The employee was kept overnight awaiting test results.\", \"source\": \"tractor\", \"location\": \"Stuttgart\", \"caseid\": \"202045000\", \"event\": \"Other fall to lower level less than 6 feet\", \"amputation\": \"0\", \"employer\": \"Wide World Importers\", \"part of body\": \"nonclassifiable\", \"nature\": \"traumatic injuries\", \"form url\": \"https://stcognitivesearch001.blob.core.windows.net/formupload/202045000.pdf\"}\n",
      "\n",
      "Translated JSON\n",
      "\n",
      "{'hospitalized': '1', 'event date': '1/1/2015', 'final narrative': 'A truck driver fell approximately 4 feet while descending a tanker trailer ladder. The employee was kept overnight awaiting test results.', 'source': 'tractor', 'location': 'Stuttgart', 'caseid': '202045000', 'event': 'Other fall to lower level less than 6 feet', 'amputation': '0', 'employer': 'Wide World Importers', 'part of body': 'nonclassifiable', 'nature': 'traumatic injuries', 'form url': 'https://stcognitivesearch001.blob.core.windows.net/formupload/202045000.pdf'}\n",
      "\n",
      "Original JSON\n",
      "\n",
      "{\"hospitalized\": \"1\", \"event date\": \"1/1/2015\", \"final narrative\": \"An employee's leg was pinned between a truck and the powered pallet jack being operated. The employee was hospitalized for treatment/surgery at Navicent Health.\", \"source\": \"pallet jack- powered\", \"location\": \"Miami\", \"caseid\": \"202045001\", \"event\": \"Caught in or compressed by equipment or objects, unspecified\", \"amputation\": \"0\", \"employer\": \"Wide World Importers\", \"part of body\": \"legs\", \"nature\": \"multiple injuries\", \"form url\": \"https://stcognitivesearch001.blob.core.windows.net/formupload/202045001.pdf\"}\n",
      "\n",
      "Translated JSON\n",
      "\n",
      "{'hospitalized': '1', 'event date': '1/1/2015', 'final narrative': \"An employee's leg was pinned between a truck and the powered pallet jack being operated. The employee was hospitalized for treatment/surgery at Navicent Health.\", 'source': 'pallet jack- powered', 'location': 'Miami', 'caseid': '202045001', 'event': 'Caught in or compressed by equipment or objects, unspecified', 'amputation': '0', 'employer': 'Wide World Importers', 'part of body': 'legs', 'nature': 'multiple injuries', 'form url': 'https://stcognitivesearch001.blob.core.windows.net/formupload/202045001.pdf'}\n",
      "\n",
      "Original JSON\n",
      "\n",
      "{\"location\": \"Rio de Janeiro\", \"amputation\": \"0\", \"final narrative\": \"Employee sustained burns during line tie-in operations at an oil and gas site.\", \"caseid\": \"202045005\", \"part of body\": \"nonclassifiable\", \"source\": \"nonclassifiable\", \"employer\": \"Wide World Importers\", \"event\": \"Nonclassifiable\", \"hospitalized\": \"1\", \"nature\": \"burns\", \"event date\": \"1/2/2015\", \"form url\": \"https://stcognitivesearch001.blob.core.windows.net/formupload/202045005.pdf\"}\n",
      "\n",
      "Translated JSON\n",
      "\n",
      "{'location': 'Rio de Janeiro', 'amputation': '0', 'final narrative': 'Employee sustained burns during line tie-in operations at an oil and gas site.', 'caseid': '202045005', 'part of body': 'nonclassifiable', 'source': 'nonclassifiable', 'employer': 'Wide World Importers', 'event': 'Nonclassifiable', 'hospitalized': '1', 'nature': 'burns', 'event date': '1/2/2015', 'form url': 'https://stcognitivesearch001.blob.core.windows.net/formupload/202045005.pdf'}\n",
      "\n",
      "Original JSON\n",
      "\n",
      "{\"employer\": \"Wide World Importers\", \"final narrative\": \"Employee tripped on a paver and fractured her wrist, requiring hospitalization.\", \"nature\": \"fractures\", \"part of body\": \"wrists and elbows\", \"event date\": \"1/2/2015\", \"hospitalized\": \"1\", \"caseid\": \"202045016\", \"source\": \"floors\", \"location\": \"Miami\", \"amputation\": \"0\", \"event\": \"Fall on same level due to tripping on uneven surface\", \"form url\": \"https://stcognitivesearch001.blob.core.windows.net/formupload/202045016.pdf\"}\n",
      "\n",
      "Translated JSON\n",
      "\n",
      "{'employer': 'Wide World Importers', 'final narrative': 'Employee tripped on a paver and fractured her wrist, requiring hospitalization.', 'nature': 'fractures', 'part of body': 'wrists and elbows', 'event date': '1/2/2015', 'hospitalized': '1', 'caseid': '202045016', 'source': 'floors', 'location': 'Miami', 'amputation': '0', 'event': 'Fall on same level due to tripping on uneven surface', 'form url': 'https://stcognitivesearch001.blob.core.windows.net/formupload/202045016.pdf'}\n",
      "\n",
      "Original JSON\n",
      "\n",
      "{\"hospitalized\": \"1\", \"amputation\": \"0\", \"location\": \"Rio de Janeiro\", \"source\": \"ladders\", \"employer\": \"Wide World Importers\", \"event date\": \"1/3/2015\", \"nature\": \"multiple injuries\", \"final narrative\": \"Employee was installing a new cable on a home while working from a Lunar, 28 foot fiberglass extension ladder. A gust of wind made his ladder move and he felt like it was going to fall so he jumped off the ladder toward the grass to avoid the concrete patio and landed on his back.\", \"part of body\": \"spine\", \"caseid\": \"202045020\", \"event\": \"Other jump to lower level 26 to 30 feet\", \"form url\": \"https://stcognitivesearch001.blob.core.windows.net/formupload/202045020.pdf\"}\n",
      "\n",
      "Translated JSON\n",
      "\n",
      "{'hospitalized': '1', 'amputation': '0', 'location': 'Rio de Janeiro', 'source': 'ladders', 'employer': 'Wide World Importers', 'event date': '1/3/2015', 'nature': 'multiple injuries', 'final narrative': 'Employee was installing a new cable on a home while working from a Lunar, 28 foot fiberglass extension ladder. A gust of wind made his ladder move and he felt like it was going to fall so he jumped off the ladder toward the grass to avoid the concrete patio and landed on his back.', 'part of body': 'spine', 'caseid': '202045020', 'event': 'Other jump to lower level 26 to 30 feet', 'form url': 'https://stcognitivesearch001.blob.core.windows.net/formupload/202045020.pdf'}\n"
     ]
    }
   ],
   "source": [
    "# Total files in the input folder\n",
    "files = [f for f in listdir(local_input_path) if isfile(join(local_input_path, f))]\n",
    "len(files)\n",
    "# Loop through all the JSON files and translate them one by one\n",
    "for file in files:\n",
    "    with open(join(local_input_path,file)) as f:\n",
    "        # Reading the data from the JSON file\n",
    "        data = f.readlines()\n",
    "        data = [json.loads(line) for line in data]\n",
    "        pd_data = {k.replace('_', ' ') : v for k, v in data[0].items()}\n",
    "        esp_data = json.dumps(pd_data, ensure_ascii=False).encode('utf8')\n",
    "        print(\"\\nOriginal JSON\\n\")\n",
    "        print(esp_data.decode())\n",
    "        esp_decod = esp_data.decode('utf-8')\n",
    "    # Sending a post request to the translator\n",
    "    resp = requests.post(url+lang, json=[{'Text':esp_decod}], headers = headers)\n",
    "    resp_text = json.loads(resp.text) \n",
    "    en_val=resp_text[0]['translations'][0]['text']\n",
    "    try:\n",
    "        en_dict = json.loads(en_val)\n",
    "\n",
    "    except:\n",
    "        en_str = f\"{{{en_val}}}\"\n",
    "        en_dict = json.loads(en_str)\n",
    "    print(\"\\nTranslated JSON\\n\")\n",
    "    print(en_dict)\n",
    "    # Save the translated text to a json file\n",
    "    with open(output_path+file[:-5]+\"-translated\"+\".json\", 'w') as outfile:\n",
    "        json.dump(en_dict, outfile)"
   ]
  },
  {
   "cell_type": "code",
   "execution_count": null,
   "metadata": {},
   "outputs": [],
   "source": []
  }
 ],
 "metadata": {
  "kernel_info": {
   "name": "python3"
  },
  "kernelspec": {
   "display_name": "Python 3",
   "language": "python",
   "name": "python3"
  },
  "language_info": {
   "codemirror_mode": {
    "name": "ipython",
    "version": 3
   },
   "file_extension": ".py",
   "mimetype": "text/x-python",
   "name": "python",
   "nbconvert_exporter": "python",
   "pygments_lexer": "ipython3",
   "version": "3.6.9"
  },
  "nteract": {
   "version": "nteract-front-end@1.0.0"
  }
 },
 "nbformat": 4,
 "nbformat_minor": 4
}
