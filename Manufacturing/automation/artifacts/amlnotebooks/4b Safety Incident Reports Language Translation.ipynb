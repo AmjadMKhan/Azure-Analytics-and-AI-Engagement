{
 "cells": [
  {
   "cell_type": "markdown",
   "metadata": {},
   "source": [
    "# Azure Translator\n",
    "\n",
    "Azure translator translates text from one language to another using the Translator REST API.\n",
    "\n",
    "\n",
    "### Overview\n",
    "*Safety Incident Reports Dataset*: The safety incident reports JSON files in languages like spanish and portuguese are translated to english using the azure translator.\n",
    "\n",
    "### Notebook Organization \n",
    "+ Fetch the injury report JSON files from a folder in spanish and portugese.\n",
    "\n",
    "+ Translate the JSON files to english by sending a post request to the azure translator service.\n",
    "\n",
    "+ Store the translated JSON files to a folder.\n"
   ]
  },
  {
   "cell_type": "markdown",
   "metadata": {},
   "source": [
    "## Importing Relevant Libraries"
   ]
  },
  {
   "cell_type": "code",
   "execution_count": 1,
   "metadata": {},
   "outputs": [],
   "source": [
    "import pandas as pd\n",
    "import requests\n",
    "import json\n",
    "import os\n",
    "from os import listdir\n",
    "from os.path import isfile, join"
   ]
  },
  {
   "cell_type": "markdown",
   "metadata": {},
   "source": [
    "## Create Local Folders\n",
    "\n",
    "- *input-json-files* is the folder from where the input JSON files are provided to be translated into english.\n",
    "- *translated_json* consists of all the translated json files."
   ]
  },
  {
   "cell_type": "code",
   "execution_count": 2,
   "metadata": {},
   "outputs": [],
   "source": [
    "local_path = os.path.join(os.getcwd(), \"input-json-files//\")\n",
    "# *translated_json* will contain all the translated json files\n",
    "if (not os.path.isdir(os.getcwd()+\"/translated_json\")):\n",
    "    os.makedirs(os.getcwd()+\"/translated_json\")\n",
    "output_path = os.path.join(os.getcwd(), \"translated_json//\")"
   ]
  },
  {
   "cell_type": "markdown",
   "metadata": {},
   "source": [
    "## Translator Resource"
   ]
  },
  {
   "cell_type": "code",
   "execution_count": 3,
   "metadata": {},
   "outputs": [],
   "source": [
    "# Importing user defined config\n",
    "import config\n",
    "\n",
    "# Translator resource\n",
    "# Endpoint parameters for querying the translator to return the translated JSON\n",
    "url = config.TRANLATION_URL\n",
    "print(url)\n",
    "headers = config.TRANLATION_HEADERS\n",
    "print(headers)\n",
    "# Provide english as the language\n",
    "lang = \"en\""
   ]
  },
  {
   "cell_type": "code",
   "execution_count": 4,
   "metadata": {},
   "outputs": [
    {
     "name": "stdout",
     "output_type": "stream",
     "text": [
      "\n",
      "Original JSON\n",
      "\n",
      "{\"Data do evento\": \"20/8/2019\", \"Localização\": \"Kyoto\", \"Empregador\": \"Wide World Importers\", \"Amputação\": \"1\", \"Parte do corpo\": \"unhas\", \"Narrativa Final\": \"Um empregado estava carregando uma peça em uma imprensa quando atuava, resultando na amputação dos dois dedos do meio esquerdo.\", \"CaseId\": \"202081080\", \"Fonte\": \"prensas\", \"Evento\": \"Preso em equipamentos ou máquinas em execução durante a operação regular\", \"Natureza\": \"amputações\", \"Hospitalização\": \"1\"}\n",
      "\n",
      "Translated JSON\n",
      "\n",
      "{'Event Date': '8/20/2019', 'Location': 'Kyoto', 'Employer': 'Wide World Importers', 'Amputation': '1', 'Body Part': 'Nails', 'Final Narrative': 'An employee was carrying a piece in a press while acting, resulting in the amputation of the two fingers of the left middle.', 'CaseId': '202081080', 'Source': 'presses', 'Event': 'Stuck in equipment or machines running during regular operation', 'Nature': 'amputations', 'Hospitalization': '1'}\n",
      "\n",
      "Original JSON\n",
      "\n",
      "{\"Fecha del evento\": \"1/1/2015\", \"Hospitalizacion\": \"1\", \"Amputación\": \"0\", \"Evento\": \"Otros caen a un nivel inferior a menos de 6 pies\", \"Fuente\": \"tractor\", \"Naturaleza\": \"lesiones traumáticas\", \"Ubicación\": \"Stuttgart\", \"Narrativa final\": \"Un conductor de camión cayó aproximadamente 4 pies mientras bajaba la escalera de un camión cisterna. El empleado se mantuvo durante la noche esperando los resultados de la prueba.\", \"Parte del cuerpo\": \"no clasificable\", \"ID\": \"202045000\", \"Empleador\": \"Wide World Importers\"}\n",
      "\n",
      "Translated JSON\n",
      "\n",
      "{'Date of event': '1/1/2015', 'Hospitalization': '1', 'Amputation': '0', 'Event': 'Others fall to a level below less than 6 feet', 'Source': 'tractor', 'Nature': 'traumatic injuries', 'Location': 'Stuttgart', 'Final narrative': 'A truck driver fell approximately 4 feet while lowering the ladder truck. The employee remained overnight waiting for the test results.', 'Body Part': 'Uns classifiable', 'ID': '202045000', 'Employer': 'Wide World Importers'}\n"
     ]
    }
   ],
   "source": [
    "# Total files in the input folder\n",
    "files = [f for f in listdir(os.getcwd()+\"/input-json-files\") if isfile(join(os.getcwd()+\"/input-json-files\", f))]\n",
    "len(files)\n",
    "# Loop through all the JSON files and translate them one by one\n",
    "for file in files:\n",
    "    with open(local_path+file) as f:\n",
    "        # Reading the data from the JSON file\n",
    "        data = f.readlines()\n",
    "        data = [json.loads(line) for line in data]\n",
    "        pd_data = {k.replace('_', ' ') : v for k, v in data[0].items()}\n",
    "        esp_data = json.dumps(pd_data, ensure_ascii=False).encode('utf8')\n",
    "        print(\"\\nOriginal JSON\\n\")\n",
    "        print(esp_data.decode())\n",
    "        esp_decod = esp_data.decode('utf-8')\n",
    "    # Sending a post request to the translator\n",
    "    resp = requests.post(url+lang, json=[{'Text':esp_decod}], headers = headers)\n",
    "    resp_text = json.loads(resp.text) \n",
    "    en_val=resp_text[0]['translations'][0]['text']\n",
    "    try:\n",
    "        en_dict = json.loads(en_val)\n",
    "\n",
    "    except:\n",
    "        en_str = f\"{{{en_val}}}\"\n",
    "        en_dict = json.loads(en_str)\n",
    "    print(\"\\nTranslated JSON\\n\")\n",
    "    print(en_dict)\n",
    "    # Save the translated text to a json file\n",
    "    with open(output_path+file[:-5]+\"-translated\"+\".json\", 'w') as outfile:\n",
    "        json.dump(en_dict, outfile)"
   ]
  },
  {
   "cell_type": "code",
   "execution_count": null,
   "metadata": {},
   "outputs": [],
   "source": []
  }
 ],
 "metadata": {
  "kernel_info": {
   "name": "python3"
  },
  "kernelspec": {
   "display_name": "Python 3",
   "language": "python",
   "name": "python3"
  },
  "language_info": {
   "codemirror_mode": {
    "name": "ipython",
    "version": 3
   },
   "file_extension": ".py",
   "mimetype": "text/x-python",
   "name": "python",
   "nbconvert_exporter": "python",
   "pygments_lexer": "ipython3",
   "version": "3.7.7"
  },
  "nteract": {
   "version": "nteract-front-end@1.0.0"
  }
 },
 "nbformat": 4,
 "nbformat_minor": 4
}
