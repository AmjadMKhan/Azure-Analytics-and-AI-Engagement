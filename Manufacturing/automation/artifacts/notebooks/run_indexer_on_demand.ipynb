{
  "metadata": {
    "language_info": {
      "name": "python"
    },
    "sessionKeepAliveTimeout": 30
  },
  "nbformat": 4,
  "nbformat_minor": 2,
  "cells": [
    {
      "cell_type": "markdown",
      "metadata": {},
      "source": [
        "## Initial Setup\n",
        ""
      ],
      "attachments": {}
    },
    {
      "cell_type": "markdown",
      "metadata": {},
      "source": [
        "## Please follow this documentation for finding out your api-key for your search engine.\n",
        "https://docs.microsoft.com/en-us/azure/search/search-security-api-keys\n",
        ""
      ],
      "attachments": {}
    },
    {
      "cell_type": "markdown",
      "metadata": {},
      "source": [
        "## Import all the required libraries\n",
        ""
      ],
      "attachments": {}
    },
    {
      "cell_type": "code",
      "execution_count": null,
      "outputs": [],
      "metadata": {},
      "source": [
        "import requests\n",
        "import json"
      ],
      "attachments": {}
    },
    {
      "cell_type": "markdown",
      "metadata": {},
      "source": [
        "## Define all the parameters\n",
        ""
      ],
      "attachments": {}
    },
    {
      "cell_type": "code",
      "execution_count": null,
      "outputs": [],
      "metadata": {},
      "source": [
        "# Define all the parameters\n",
        "api_key = '#SEARCH_KEY#'\n",
        "service_name = \"#SEARCH_NAME#\"\n",
        "indexer_name = \"osha-final\"\n",
        "api_version=\"2020-06-30\""
      ],
      "attachments": {}
    },
    {
      "cell_type": "markdown",
      "metadata": {},
      "source": [
        "## Making an API Call for running the indexer on demand\n",
        "The status code should be 202.\n",
        ""
      ],
      "attachments": {}
    },
    {
      "cell_type": "code",
      "execution_count": null,
      "outputs": [],
      "metadata": {},
      "source": [
        "url = f'https://{service_name}.search.windows.net/indexers/{indexer_name}/run?api-version={api_version}'\n",
        "headers = {\n",
        "    'api-key': api_key,\n",
        "    'Content-Type': 'application/json',\n",
        "}\n",
        "response = requests.post(url, headers=headers)\n",
        "print(response.status_code)"
      ],
      "attachments": {}
    }
  ]
}